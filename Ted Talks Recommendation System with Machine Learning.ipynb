{
 "cells": [
  {
   "cell_type": "code",
   "execution_count": null,
   "metadata": {},
   "outputs": [],
   "source": [
    "#https://thecleverprogrammer.com/2021/04/01/ted-talks-recommendation-system-with-machine-learning/"
   ]
  },
  {
   "cell_type": "code",
   "execution_count": 2,
   "metadata": {},
   "outputs": [
    {
     "name": "stdout",
     "output_type": "stream",
     "text": [
      "                                          transcript  \\\n",
      "0  Good morning. How are you?(Laughter)It's been ...   \n",
      "1  Thank you so much, Chris. And it's truly a gre...   \n",
      "2  (Music: \"The Sound of Silence,\" Simon & Garfun...   \n",
      "3  If you're here today — and I'm very happy that...   \n",
      "4  About 10 years ago, I took on the task to teac...   \n",
      "\n",
      "                                                 url  \n",
      "0  https://www.ted.com/talks/ken_robinson_says_sc...  \n",
      "1  https://www.ted.com/talks/al_gore_on_averting_...  \n",
      "2  https://www.ted.com/talks/david_pogue_says_sim...  \n",
      "3  https://www.ted.com/talks/majora_carter_s_tale...  \n",
      "4  https://www.ted.com/talks/hans_rosling_shows_t...  \n"
     ]
    }
   ],
   "source": [
    "import numpy as np\n",
    "import pandas as pd\n",
    "data = pd.read_csv(\"ted_talks.csv\")\n",
    "print(data.head())"
   ]
  },
  {
   "cell_type": "code",
   "execution_count": 3,
   "metadata": {},
   "outputs": [],
   "source": [
    "data[\"title\"] = data[\"url\"].map(lambda x:x.split(\"/\")[-1])"
   ]
  },
  {
   "cell_type": "markdown",
   "metadata": {},
   "source": [
    "As I stated in the beginning that this recommender system has to be purely based on the content rather than the data of the user so here I will first prepare this dataset and then let’s use cosine similarity to measure the similarities between different Ted talks:"
   ]
  },
  {
   "cell_type": "code",
   "execution_count": 4,
   "metadata": {},
   "outputs": [],
   "source": [
    "from sklearn.feature_extraction import text\n",
    "ted_talks = data[\"transcript\"].tolist()\n",
    "bi_tfidf = text.TfidfVectorizer(input=ted_talks, stop_words=\"english\", ngram_range=(1,2))\n",
    "bi_matrix = bi_tfidf.fit_transform(ted_talks)\n",
    "\n",
    "uni_tfidf = text.TfidfVectorizer(input=ted_talks, stop_words=\"english\")\n",
    "uni_matrix = uni_tfidf.fit_transform(ted_talks)\n",
    "\n",
    "from sklearn.metrics.pairwise import cosine_similarity\n",
    "bi_sim = cosine_similarity(bi_matrix)\n",
    "uni_sim = cosine_similarity(uni_matrix)"
   ]
  },
  {
   "cell_type": "code",
   "execution_count": 5,
   "metadata": {},
   "outputs": [
    {
     "name": "stdout",
     "output_type": "stream",
     "text": [
      "['RORY BREMNER S ONE MAN WORLD SUMMIT', '.ALICE BOWS LARKIN WE RE TOO LATE TO PREVENT CLIMATE CHANGE HERE S HOW WE ADAPT', '.TED HALSTEAD A CLIMATE SOLUTION WHERE ALL SIDES CAN WIN', '.AL GORE S NEW THINKING ON THE CLIMATE CRISIS']\n"
     ]
    }
   ],
   "source": [
    "def recommend_ted_talks(x):\n",
    "    return \".\".join(data[\"title\"].loc[x.argsort()[-5:-1]])\n",
    "    \n",
    "data[\"ted_talks_uni\"] = [recommend_ted_talks(x) for x in uni_sim]\n",
    "data[\"ted_talks_bi\"] = [recommend_ted_talks(x) for x in bi_sim]\n",
    "print(data['ted_talks_uni'].str.replace(\"_\", \" \").str.upper().str.strip().str.split(\"\\n\")[1])"
   ]
  },
  {
   "cell_type": "code",
   "execution_count": null,
   "metadata": {},
   "outputs": [],
   "source": []
  },
  {
   "cell_type": "code",
   "execution_count": null,
   "metadata": {},
   "outputs": [],
   "source": []
  },
  {
   "cell_type": "code",
   "execution_count": null,
   "metadata": {},
   "outputs": [],
   "source": []
  }
 ],
 "metadata": {
  "kernelspec": {
   "display_name": "Python 3",
   "language": "python",
   "name": "python3"
  },
  "language_info": {
   "codemirror_mode": {
    "name": "ipython",
    "version": 3
   },
   "file_extension": ".py",
   "mimetype": "text/x-python",
   "name": "python",
   "nbconvert_exporter": "python",
   "pygments_lexer": "ipython3",
   "version": "3.8.5"
  }
 },
 "nbformat": 4,
 "nbformat_minor": 4
}
