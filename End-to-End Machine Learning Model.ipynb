{
 "cells": [
  {
   "cell_type": "code",
   "execution_count": null,
   "metadata": {},
   "outputs": [],
   "source": [
    "#https://thecleverprogrammer.com/2021/06/03/end-to-end-machine-learning-model/"
   ]
  },
  {
   "cell_type": "code",
   "execution_count": 5,
   "metadata": {
    "collapsed": true
   },
   "outputs": [
    {
     "name": "stdout",
     "output_type": "stream",
     "text": [
      "Requirement already satisfied: streamlit in c:\\anaconda\\lib\\site-packages (1.10.0)\n",
      "Requirement already satisfied: click>=7.0 in c:\\anaconda\\lib\\site-packages (from streamlit) (7.1.2)\n",
      "Requirement already satisfied: protobuf<4,>=3.12 in c:\\anaconda\\lib\\site-packages (from streamlit) (3.17.3)\n",
      "Requirement already satisfied: packaging in c:\\anaconda\\lib\\site-packages (from streamlit) (20.4)\n",
      "Requirement already satisfied: gitpython!=3.1.19 in c:\\anaconda\\lib\\site-packages (from streamlit) (3.1.27)\n",
      "Requirement already satisfied: pandas>=0.21.0 in c:\\anaconda\\lib\\site-packages (from streamlit) (1.1.3)\n",
      "Requirement already satisfied: tornado>=5.0 in c:\\anaconda\\lib\\site-packages (from streamlit) (6.0.4)\n",
      "Requirement already satisfied: pyarrow in c:\\anaconda\\lib\\site-packages (from streamlit) (8.0.0)\n",
      "Requirement already satisfied: importlib-metadata>=1.4 in c:\\anaconda\\lib\\site-packages (from streamlit) (2.0.0)\n",
      "Requirement already satisfied: pympler>=0.9 in c:\\anaconda\\lib\\site-packages (from streamlit) (1.0.1)\n",
      "Requirement already satisfied: pydeck>=0.1.dev5 in c:\\anaconda\\lib\\site-packages (from streamlit) (0.7.1)Note: you may need to restart the kernel to use updated packages.\n",
      "Requirement already satisfied: rich in c:\\anaconda\\lib\\site-packages (from streamlit) (12.4.4)\n",
      "Requirement already satisfied: numpy in c:\\anaconda\\lib\\site-packages (from streamlit) (1.19.5)\n",
      "Requirement already satisfied: altair>=3.2.0 in c:\\anaconda\\lib\\site-packages (from streamlit) (4.2.0)\n",
      "Requirement already satisfied: python-dateutil in c:\\anaconda\\lib\\site-packages (from streamlit) (2.8.1)\n",
      "Requirement already satisfied: pillow>=6.2.0 in c:\\anaconda\\lib\\site-packages (from streamlit) (9.1.1)\n",
      "Requirement already satisfied: toml in c:\\anaconda\\lib\\site-packages (from streamlit) (0.10.1)\n",
      "Requirement already satisfied: typing-extensions in c:\\anaconda\\lib\\site-packages (from streamlit) (3.7.4.3)\n",
      "Requirement already satisfied: watchdog; platform_system != \"Darwin\" in c:\\anaconda\\lib\\site-packages (from streamlit) (0.10.3)\n",
      "Requirement already satisfied: attrs in c:\\anaconda\\lib\\site-packages (from streamlit) (20.3.0)\n",
      "Requirement already satisfied: requests in c:\\anaconda\\lib\\site-packages (from streamlit) (2.27.1)\n",
      "Requirement already satisfied: cachetools>=4.0 in c:\\anaconda\\lib\\site-packages (from streamlit) (4.2.2)\n",
      "Requirement already satisfied: tzlocal in c:\\anaconda\\lib\\site-packages (from streamlit) (4.2)\n",
      "Requirement already satisfied: validators in c:\\anaconda\\lib\\site-packages (from streamlit) (0.19.0)\n",
      "Requirement already satisfied: semver in c:\\anaconda\\lib\\site-packages (from streamlit) (2.13.0)\n",
      "Requirement already satisfied: blinker in c:\\anaconda\\lib\\site-packages (from streamlit) (1.4)\n",
      "Requirement already satisfied: six>=1.9 in c:\\anaconda\\lib\\site-packages (from protobuf<4,>=3.12->streamlit) (1.15.0)\n",
      "Requirement already satisfied: pyparsing>=2.0.2 in c:\\anaconda\\lib\\site-packages (from packaging->streamlit) (2.4.7)\n",
      "Requirement already satisfied: gitdb<5,>=4.0.1 in c:\\anaconda\\lib\\site-packages (from gitpython!=3.1.19->streamlit) (4.0.9)\n",
      "Requirement already satisfied: pytz>=2017.2 in c:\\anaconda\\lib\\site-packages (from pandas>=0.21.0->streamlit) (2020.1)\n",
      "Requirement already satisfied: zipp>=0.5 in c:\\anaconda\\lib\\site-packages (from importlib-metadata>=1.4->streamlit) (3.4.0)\n",
      "\n",
      "Requirement already satisfied: jinja2>=2.10.1 in c:\\anaconda\\lib\\site-packages (from pydeck>=0.1.dev5->streamlit) (2.11.2)\n",
      "Requirement already satisfied: traitlets>=4.3.2 in c:\\anaconda\\lib\\site-packages (from pydeck>=0.1.dev5->streamlit) (5.0.5)\n",
      "Requirement already satisfied: ipywidgets>=7.0.0 in c:\\anaconda\\lib\\site-packages (from pydeck>=0.1.dev5->streamlit) (7.5.1)\n",
      "Requirement already satisfied: ipykernel>=5.1.2; python_version >= \"3.4\" in c:\\anaconda\\lib\\site-packages (from pydeck>=0.1.dev5->streamlit) (5.3.4)\n",
      "Requirement already satisfied: commonmark<0.10.0,>=0.9.0 in c:\\anaconda\\lib\\site-packages (from rich->streamlit) (0.9.1)\n",
      "Requirement already satisfied: pygments<3.0.0,>=2.6.0 in c:\\anaconda\\lib\\site-packages (from rich->streamlit) (2.7.2)\n",
      "Requirement already satisfied: toolz in c:\\anaconda\\lib\\site-packages (from altair>=3.2.0->streamlit) (0.11.1)\n",
      "Requirement already satisfied: jsonschema>=3.0 in c:\\anaconda\\lib\\site-packages (from altair>=3.2.0->streamlit) (3.2.0)\n",
      "Requirement already satisfied: entrypoints in c:\\anaconda\\lib\\site-packages (from altair>=3.2.0->streamlit) (0.3)\n",
      "Requirement already satisfied: pathtools>=0.1.1 in c:\\anaconda\\lib\\site-packages (from watchdog; platform_system != \"Darwin\"->streamlit) (0.1.2)\n",
      "Requirement already satisfied: charset-normalizer~=2.0.0; python_version >= \"3\" in c:\\anaconda\\lib\\site-packages (from requests->streamlit) (2.0.12)\n",
      "Requirement already satisfied: certifi>=2017.4.17 in c:\\anaconda\\lib\\site-packages (from requests->streamlit) (2020.6.20)\n",
      "Requirement already satisfied: idna<4,>=2.5; python_version >= \"3\" in c:\\anaconda\\lib\\site-packages (from requests->streamlit) (2.10)\n",
      "Requirement already satisfied: urllib3<1.27,>=1.21.1 in c:\\anaconda\\lib\\site-packages (from requests->streamlit) (1.25.11)\n",
      "Requirement already satisfied: pytz-deprecation-shim in c:\\anaconda\\lib\\site-packages (from tzlocal->streamlit) (0.1.0.post0)\n",
      "Requirement already satisfied: tzdata; platform_system == \"Windows\" in c:\\anaconda\\lib\\site-packages (from tzlocal->streamlit) (2022.1)\n",
      "Requirement already satisfied: backports.zoneinfo; python_version < \"3.9\" in c:\\anaconda\\lib\\site-packages (from tzlocal->streamlit) (0.2.1)\n",
      "Requirement already satisfied: decorator>=3.4.0 in c:\\anaconda\\lib\\site-packages (from validators->streamlit) (4.4.2)\n",
      "Requirement already satisfied: smmap<6,>=3.0.1 in c:\\anaconda\\lib\\site-packages (from gitdb<5,>=4.0.1->gitpython!=3.1.19->streamlit) (5.0.0)\n",
      "Requirement already satisfied: MarkupSafe>=0.23 in c:\\anaconda\\lib\\site-packages (from jinja2>=2.10.1->pydeck>=0.1.dev5->streamlit) (1.1.1)\n",
      "Requirement already satisfied: ipython-genutils in c:\\anaconda\\lib\\site-packages (from traitlets>=4.3.2->pydeck>=0.1.dev5->streamlit) (0.2.0)\n",
      "Requirement already satisfied: nbformat>=4.2.0 in c:\\anaconda\\lib\\site-packages (from ipywidgets>=7.0.0->pydeck>=0.1.dev5->streamlit) (5.0.8)\n",
      "Requirement already satisfied: ipython>=4.0.0; python_version >= \"3.3\" in c:\\anaconda\\lib\\site-packages (from ipywidgets>=7.0.0->pydeck>=0.1.dev5->streamlit) (7.19.0)\n",
      "Requirement already satisfied: widgetsnbextension~=3.5.0 in c:\\anaconda\\lib\\site-packages (from ipywidgets>=7.0.0->pydeck>=0.1.dev5->streamlit) (3.5.1)\n",
      "Requirement already satisfied: jupyter-client in c:\\anaconda\\lib\\site-packages (from ipykernel>=5.1.2; python_version >= \"3.4\"->pydeck>=0.1.dev5->streamlit) (6.1.7)\n",
      "Requirement already satisfied: setuptools in c:\\anaconda\\lib\\site-packages (from jsonschema>=3.0->altair>=3.2.0->streamlit) (50.3.1.post20201107)\n",
      "Requirement already satisfied: pyrsistent>=0.14.0 in c:\\anaconda\\lib\\site-packages (from jsonschema>=3.0->altair>=3.2.0->streamlit) (0.17.3)\n",
      "Requirement already satisfied: jupyter-core in c:\\anaconda\\lib\\site-packages (from nbformat>=4.2.0->ipywidgets>=7.0.0->pydeck>=0.1.dev5->streamlit) (4.6.3)\n",
      "Requirement already satisfied: backcall in c:\\anaconda\\lib\\site-packages (from ipython>=4.0.0; python_version >= \"3.3\"->ipywidgets>=7.0.0->pydeck>=0.1.dev5->streamlit) (0.2.0)\n",
      "Requirement already satisfied: prompt-toolkit!=3.0.0,!=3.0.1,<3.1.0,>=2.0.0 in c:\\anaconda\\lib\\site-packages (from ipython>=4.0.0; python_version >= \"3.3\"->ipywidgets>=7.0.0->pydeck>=0.1.dev5->streamlit) (3.0.8)\n",
      "Requirement already satisfied: colorama; sys_platform == \"win32\" in c:\\anaconda\\lib\\site-packages (from ipython>=4.0.0; python_version >= \"3.3\"->ipywidgets>=7.0.0->pydeck>=0.1.dev5->streamlit) (0.4.4)\n",
      "Requirement already satisfied: jedi>=0.10 in c:\\anaconda\\lib\\site-packages (from ipython>=4.0.0; python_version >= \"3.3\"->ipywidgets>=7.0.0->pydeck>=0.1.dev5->streamlit) (0.17.1)\n",
      "Requirement already satisfied: pickleshare in c:\\anaconda\\lib\\site-packages (from ipython>=4.0.0; python_version >= \"3.3\"->ipywidgets>=7.0.0->pydeck>=0.1.dev5->streamlit) (0.7.5)\n",
      "Requirement already satisfied: notebook>=4.4.1 in c:\\anaconda\\lib\\site-packages (from widgetsnbextension~=3.5.0->ipywidgets>=7.0.0->pydeck>=0.1.dev5->streamlit) (6.1.4)\n",
      "Requirement already satisfied: pyzmq>=13 in c:\\anaconda\\lib\\site-packages (from jupyter-client->ipykernel>=5.1.2; python_version >= \"3.4\"->pydeck>=0.1.dev5->streamlit) (19.0.2)\n",
      "Requirement already satisfied: pywin32>=1.0; sys_platform == \"win32\" in c:\\anaconda\\lib\\site-packages (from jupyter-core->nbformat>=4.2.0->ipywidgets>=7.0.0->pydeck>=0.1.dev5->streamlit) (227)\n",
      "Requirement already satisfied: wcwidth in c:\\anaconda\\lib\\site-packages (from prompt-toolkit!=3.0.0,!=3.0.1,<3.1.0,>=2.0.0->ipython>=4.0.0; python_version >= \"3.3\"->ipywidgets>=7.0.0->pydeck>=0.1.dev5->streamlit) (0.2.5)\n",
      "Requirement already satisfied: parso<0.8.0,>=0.7.0 in c:\\anaconda\\lib\\site-packages (from jedi>=0.10->ipython>=4.0.0; python_version >= \"3.3\"->ipywidgets>=7.0.0->pydeck>=0.1.dev5->streamlit) (0.7.0)\n",
      "Requirement already satisfied: Send2Trash in c:\\anaconda\\lib\\site-packages (from notebook>=4.4.1->widgetsnbextension~=3.5.0->ipywidgets>=7.0.0->pydeck>=0.1.dev5->streamlit) (1.5.0)\n",
      "Requirement already satisfied: prometheus-client in c:\\anaconda\\lib\\site-packages (from notebook>=4.4.1->widgetsnbextension~=3.5.0->ipywidgets>=7.0.0->pydeck>=0.1.dev5->streamlit) (0.8.0)\n",
      "Requirement already satisfied: nbconvert in c:\\anaconda\\lib\\site-packages (from notebook>=4.4.1->widgetsnbextension~=3.5.0->ipywidgets>=7.0.0->pydeck>=0.1.dev5->streamlit) (6.0.7)\n",
      "Requirement already satisfied: argon2-cffi in c:\\anaconda\\lib\\site-packages (from notebook>=4.4.1->widgetsnbextension~=3.5.0->ipywidgets>=7.0.0->pydeck>=0.1.dev5->streamlit) (20.1.0)\n",
      "Requirement already satisfied: terminado>=0.8.3 in c:\\anaconda\\lib\\site-packages (from notebook>=4.4.1->widgetsnbextension~=3.5.0->ipywidgets>=7.0.0->pydeck>=0.1.dev5->streamlit) (0.9.1)\n",
      "Requirement already satisfied: bleach in c:\\anaconda\\lib\\site-packages (from nbconvert->notebook>=4.4.1->widgetsnbextension~=3.5.0->ipywidgets>=7.0.0->pydeck>=0.1.dev5->streamlit) (3.2.1)\n",
      "Requirement already satisfied: nbclient<0.6.0,>=0.5.0 in c:\\anaconda\\lib\\site-packages (from nbconvert->notebook>=4.4.1->widgetsnbextension~=3.5.0->ipywidgets>=7.0.0->pydeck>=0.1.dev5->streamlit) (0.5.1)\n",
      "Requirement already satisfied: defusedxml in c:\\anaconda\\lib\\site-packages (from nbconvert->notebook>=4.4.1->widgetsnbextension~=3.5.0->ipywidgets>=7.0.0->pydeck>=0.1.dev5->streamlit) (0.6.0)\n",
      "Requirement already satisfied: testpath in c:\\anaconda\\lib\\site-packages (from nbconvert->notebook>=4.4.1->widgetsnbextension~=3.5.0->ipywidgets>=7.0.0->pydeck>=0.1.dev5->streamlit) (0.4.4)\n",
      "Requirement already satisfied: pandocfilters>=1.4.1 in c:\\anaconda\\lib\\site-packages (from nbconvert->notebook>=4.4.1->widgetsnbextension~=3.5.0->ipywidgets>=7.0.0->pydeck>=0.1.dev5->streamlit) (1.4.3)\n",
      "Requirement already satisfied: jupyterlab-pygments in c:\\anaconda\\lib\\site-packages (from nbconvert->notebook>=4.4.1->widgetsnbextension~=3.5.0->ipywidgets>=7.0.0->pydeck>=0.1.dev5->streamlit) (0.1.2)\n",
      "Requirement already satisfied: mistune<2,>=0.8.1 in c:\\anaconda\\lib\\site-packages (from nbconvert->notebook>=4.4.1->widgetsnbextension~=3.5.0->ipywidgets>=7.0.0->pydeck>=0.1.dev5->streamlit) (0.8.4)\n",
      "Requirement already satisfied: cffi>=1.0.0 in c:\\anaconda\\lib\\site-packages (from argon2-cffi->notebook>=4.4.1->widgetsnbextension~=3.5.0->ipywidgets>=7.0.0->pydeck>=0.1.dev5->streamlit) (1.14.3)\n",
      "Requirement already satisfied: pywinpty>=0.5 in c:\\anaconda\\lib\\site-packages (from terminado>=0.8.3->notebook>=4.4.1->widgetsnbextension~=3.5.0->ipywidgets>=7.0.0->pydeck>=0.1.dev5->streamlit) (0.5.7)\n",
      "Requirement already satisfied: webencodings in c:\\anaconda\\lib\\site-packages (from bleach->nbconvert->notebook>=4.4.1->widgetsnbextension~=3.5.0->ipywidgets>=7.0.0->pydeck>=0.1.dev5->streamlit) (0.5.1)\n",
      "Requirement already satisfied: async-generator in c:\\anaconda\\lib\\site-packages (from nbclient<0.6.0,>=0.5.0->nbconvert->notebook>=4.4.1->widgetsnbextension~=3.5.0->ipywidgets>=7.0.0->pydeck>=0.1.dev5->streamlit) (1.10)\n",
      "Requirement already satisfied: nest-asyncio in c:\\anaconda\\lib\\site-packages (from nbclient<0.6.0,>=0.5.0->nbconvert->notebook>=4.4.1->widgetsnbextension~=3.5.0->ipywidgets>=7.0.0->pydeck>=0.1.dev5->streamlit) (1.4.2)\n",
      "Requirement already satisfied: pycparser in c:\\anaconda\\lib\\site-packages (from cffi>=1.0.0->argon2-cffi->notebook>=4.4.1->widgetsnbextension~=3.5.0->ipywidgets>=7.0.0->pydeck>=0.1.dev5->streamlit) (2.20)\n"
     ]
    }
   ],
   "source": [
    "pip install streamlit"
   ]
  },
  {
   "cell_type": "code",
   "execution_count": 6,
   "metadata": {},
   "outputs": [],
   "source": [
    "from autots import AutoTS\n",
    "import numpy as np\n",
    "import pandas as pd\n",
    "import matplotlib.pyplot as plt\n",
    "import seaborn as sns\n",
    "from seaborn import regression\n",
    "sns.set()\n",
    "plt.style.use('seaborn-whitegrid')\n",
    "\n",
    "import streamlit as st\n",
    "st.title(\"Future Price Prediction Model\")\n",
    "df = st.text_input(\"Let's Predict the Future Prices\")\n",
    "\n",
    "if df == \"Dogecoin\":\n",
    "    data = pd.read_csv(\"Dogecoin.txt\")\n",
    "    print(data.head())\n",
    "    data.dropna()\n",
    "    model = AutoTS(forecast_length=10, frequency='infer', ensemble='simple', drop_data_older_than_periods=200)\n",
    "    model = model.fit(data, date_col='Date', value_col='Close', id_col=None)\n",
    "    prediction = model.predict()\n",
    "    forecast = prediction.forecast\n",
    "    st.write(forecast)"
   ]
  },
  {
   "cell_type": "code",
   "execution_count": null,
   "metadata": {},
   "outputs": [],
   "source": []
  },
  {
   "cell_type": "code",
   "execution_count": null,
   "metadata": {},
   "outputs": [],
   "source": []
  },
  {
   "cell_type": "code",
   "execution_count": null,
   "metadata": {},
   "outputs": [],
   "source": []
  },
  {
   "cell_type": "code",
   "execution_count": null,
   "metadata": {},
   "outputs": [],
   "source": []
  },
  {
   "cell_type": "code",
   "execution_count": null,
   "metadata": {},
   "outputs": [],
   "source": []
  },
  {
   "cell_type": "code",
   "execution_count": null,
   "metadata": {},
   "outputs": [],
   "source": []
  }
 ],
 "metadata": {
  "kernelspec": {
   "display_name": "Python 3",
   "language": "python",
   "name": "python3"
  },
  "language_info": {
   "codemirror_mode": {
    "name": "ipython",
    "version": 3
   },
   "file_extension": ".py",
   "mimetype": "text/x-python",
   "name": "python",
   "nbconvert_exporter": "python",
   "pygments_lexer": "ipython3",
   "version": "3.8.5"
  }
 },
 "nbformat": 4,
 "nbformat_minor": 4
}
