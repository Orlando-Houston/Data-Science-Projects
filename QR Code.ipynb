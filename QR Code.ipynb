{
 "cells": [
  {
   "cell_type": "code",
   "execution_count": 2,
   "metadata": {
    "collapsed": true
   },
   "outputs": [
    {
     "name": "stdout",
     "output_type": "stream",
     "text": [
      "Requirement already satisfied: Pillow in c:\\anaconda\\lib\\site-packages (8.0.1)\n",
      "Collecting qrcode\n",
      "  Downloading qrcode-7.3.1.tar.gz (43 kB)\n",
      "Requirement already satisfied: colorama in c:\\anaconda\\lib\\site-packages (from qrcode) (0.4.4)\n",
      "Building wheels for collected packages: qrcode\n",
      "  Building wheel for qrcode (setup.py): started\n",
      "  Building wheel for qrcode (setup.py): finished with status 'done'\n",
      "  Created wheel for qrcode: filename=qrcode-7.3.1-py3-none-any.whl size=40390 sha256=237ca8c31002752719e06afaeb7fd0b0bd29b34828ece1d8b21c95ac06e9fb08\n",
      "  Stored in directory: c:\\users\\aozde\\appdata\\local\\pip\\cache\\wheels\\35\\fd\\04\\2768886c56207acee0d6dc6b9bd5d06dac63a810f0c0a42516\n",
      "Successfully built qrcode\n",
      "Installing collected packages: qrcode\n",
      "Successfully installed qrcode-7.3.1\n"
     ]
    }
   ],
   "source": [
    "!pip  install Pillow\n",
    "!pip  install qrcode"
   ]
  },
  {
   "cell_type": "code",
   "execution_count": null,
   "metadata": {},
   "outputs": [],
   "source": [
    "import qrcode\n",
    "from PIL import Image"
   ]
  },
  {
   "cell_type": "code",
   "execution_count": null,
   "metadata": {},
   "outputs": [],
   "source": [
    "#Logo\n",
    "logo = Image.open(python-logo.png)"
   ]
  },
  {
   "cell_type": "code",
   "execution_count": null,
   "metadata": {},
   "outputs": [],
   "source": [
    "#qr code icine konacak veri(url)\n",
    "url =\"https://www.instagram.com/pythongineer\""
   ]
  },
  {
   "cell_type": "code",
   "execution_count": null,
   "metadata": {},
   "outputs": [],
   "source": [
    "# logoyu boyutlandirma\n",
    "basewidth =100\n",
    "wpercent=(basewidth/float(logo.size[0]))\n",
    "hsize= int((float(logo.size[1])*float(wpercent)))\n",
    "logo = logo.resize((basewidth,hsize),Image.Resampling.LANCZOS)"
   ]
  },
  {
   "cell_type": "code",
   "execution_count": null,
   "metadata": {},
   "outputs": [],
   "source": [
    "#qr code nesnesi olusturma\n",
    "QRcode= qrcode.QRCode(error_correction=qrcode.costants.ERROR_CORRECT_H)"
   ]
  },
  {
   "cell_type": "code",
   "execution_count": null,
   "metadata": {},
   "outputs": [],
   "source": [
    "# veriyi  qr code icine ekleme\n",
    "QRcode.add_data(url)"
   ]
  },
  {
   "cell_type": "code",
   "execution_count": null,
   "metadata": {},
   "outputs": [],
   "source": [
    "#qr code olusturma\n",
    "QRcode.make()"
   ]
  },
  {
   "cell_type": "code",
   "execution_count": null,
   "metadata": {},
   "outputs": [],
   "source": [
    "# qr code un color rhe change\n",
    "QRimg = Qrcode.make_image(fill_color='purple',back_color ='white').conver('RGB')"
   ]
  },
  {
   "cell_type": "code",
   "execution_count": null,
   "metadata": {},
   "outputs": [],
   "source": [
    "# add the logo\n",
    "pos =((QRimg.size[0]-logo.size[0])//2,\n",
    "      (QRimg.size[1]-logo.size[1])//2)\n",
    "QRimg.paste(logo,pos)"
   ]
  },
  {
   "cell_type": "code",
   "execution_count": null,
   "metadata": {},
   "outputs": [],
   "source": [
    "QRimg.save('qr_with_logo.png')"
   ]
  },
  {
   "cell_type": "code",
   "execution_count": null,
   "metadata": {},
   "outputs": [],
   "source": []
  }
 ],
 "metadata": {
  "kernelspec": {
   "display_name": "Python 3",
   "language": "python",
   "name": "python3"
  },
  "language_info": {
   "codemirror_mode": {
    "name": "ipython",
    "version": 3
   },
   "file_extension": ".py",
   "mimetype": "text/x-python",
   "name": "python",
   "nbconvert_exporter": "python",
   "pygments_lexer": "ipython3",
   "version": "3.8.5"
  }
 },
 "nbformat": 4,
 "nbformat_minor": 4
}
